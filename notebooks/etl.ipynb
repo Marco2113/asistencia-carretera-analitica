{
 "cells": [
  {
   "cell_type": "markdown",
   "id": "7198c061",
   "metadata": {},
   "source": [
    "### Extract – Transform – Load"
   ]
  },
  {
   "cell_type": "code",
   "execution_count": 10,
   "id": "3e68f9a6",
   "metadata": {},
   "outputs": [],
   "source": [
    "#   Importamos librerias a usar y configuramos entorno\n",
    "import pandas as pd\n",
    "import numpy as np\n",
    "\n",
    "\n",
    "from pathlib import Path\n",
    "import warnings\n",
    "warnings.filterwarnings(\"ignore\")"
   ]
  },
  {
   "cell_type": "code",
   "execution_count": 11,
   "id": "4d8d952c",
   "metadata": {},
   "outputs": [],
   "source": [
    "#   Creamos Ruta y Cargamos DATASET\n",
    "ruta = r'c:\\Users\\marco\\ex00\\asistencia-carretera-analitica\\data\\raw\\incidencias_asistencia.csv'\n",
    "data = pd.read_csv(ruta)"
   ]
  },
  {
   "cell_type": "code",
   "execution_count": 12,
   "id": "6604b6c6",
   "metadata": {},
   "outputs": [
    {
     "data": {
      "text/html": [
       "<div>\n",
       "<style scoped>\n",
       "    .dataframe tbody tr th:only-of-type {\n",
       "        vertical-align: middle;\n",
       "    }\n",
       "\n",
       "    .dataframe tbody tr th {\n",
       "        vertical-align: top;\n",
       "    }\n",
       "\n",
       "    .dataframe thead th {\n",
       "        text-align: right;\n",
       "    }\n",
       "</style>\n",
       "<table border=\"1\" class=\"dataframe\">\n",
       "  <thead>\n",
       "    <tr style=\"text-align: right;\">\n",
       "      <th></th>\n",
       "      <th>Id_Incidente</th>\n",
       "      <th>Fecha</th>\n",
       "      <th>Hora</th>\n",
       "      <th>Ciudad</th>\n",
       "      <th>Latitud</th>\n",
       "      <th>Longitud</th>\n",
       "      <th>Tipo_Incidencia</th>\n",
       "      <th>Tipo_Vehiculo</th>\n",
       "      <th>Proveedor</th>\n",
       "      <th>Distancia_km</th>\n",
       "      <th>Tiempo_Respuesta_min</th>\n",
       "      <th>Medio_Retorno</th>\n",
       "      <th>Costo_EUR</th>\n",
       "      <th>Resuelto</th>\n",
       "      <th>SLA_45min_Incumplido</th>\n",
       "      <th>Satisfaccion_1a5</th>\n",
       "      <th>Notas</th>\n",
       "    </tr>\n",
       "  </thead>\n",
       "  <tbody>\n",
       "    <tr>\n",
       "      <th>0</th>\n",
       "      <td>1</td>\n",
       "      <td>2024-12-11</td>\n",
       "      <td>20:42</td>\n",
       "      <td>Barcelona</td>\n",
       "      <td>41.38918</td>\n",
       "      <td>2.13438</td>\n",
       "      <td>Combustible</td>\n",
       "      <td>SUV</td>\n",
       "      <td>Proveedor B</td>\n",
       "      <td>17.1</td>\n",
       "      <td>21.3</td>\n",
       "      <td>Taxi</td>\n",
       "      <td>19.02</td>\n",
       "      <td>Sí</td>\n",
       "      <td>No</td>\n",
       "      <td>5.0</td>\n",
       "      <td>NaN</td>\n",
       "    </tr>\n",
       "    <tr>\n",
       "      <th>1</th>\n",
       "      <td>2</td>\n",
       "      <td>2025-02-16</td>\n",
       "      <td>21:14</td>\n",
       "      <td>Madrid</td>\n",
       "      <td>40.36878</td>\n",
       "      <td>-3.62800</td>\n",
       "      <td>Neumático</td>\n",
       "      <td>SUV</td>\n",
       "      <td>Proveedor A</td>\n",
       "      <td>43.6</td>\n",
       "      <td>37.7</td>\n",
       "      <td>Grúa</td>\n",
       "      <td>103.20</td>\n",
       "      <td>Sí</td>\n",
       "      <td>No</td>\n",
       "      <td>4.4</td>\n",
       "      <td>NaN</td>\n",
       "    </tr>\n",
       "    <tr>\n",
       "      <th>2</th>\n",
       "      <td>3</td>\n",
       "      <td>2024-10-22</td>\n",
       "      <td>07:19</td>\n",
       "      <td>Zaragoza</td>\n",
       "      <td>41.61188</td>\n",
       "      <td>-0.88377</td>\n",
       "      <td>Motor</td>\n",
       "      <td>SUV</td>\n",
       "      <td>Proveedor B</td>\n",
       "      <td>14.3</td>\n",
       "      <td>53.0</td>\n",
       "      <td>Grúa</td>\n",
       "      <td>132.82</td>\n",
       "      <td>Sí</td>\n",
       "      <td>Sí</td>\n",
       "      <td>4.2</td>\n",
       "      <td>NaN</td>\n",
       "    </tr>\n",
       "    <tr>\n",
       "      <th>3</th>\n",
       "      <td>4</td>\n",
       "      <td>2025-04-05</td>\n",
       "      <td>17:33</td>\n",
       "      <td>Sevilla</td>\n",
       "      <td>37.39681</td>\n",
       "      <td>-5.95097</td>\n",
       "      <td>Neumático</td>\n",
       "      <td>Furgoneta</td>\n",
       "      <td>Proveedor C</td>\n",
       "      <td>25.5</td>\n",
       "      <td>12.1</td>\n",
       "      <td>Grúa</td>\n",
       "      <td>79.25</td>\n",
       "      <td>Sí</td>\n",
       "      <td>No</td>\n",
       "      <td>5.0</td>\n",
       "      <td>NaN</td>\n",
       "    </tr>\n",
       "    <tr>\n",
       "      <th>4</th>\n",
       "      <td>5</td>\n",
       "      <td>2024-10-10</td>\n",
       "      <td>20:44</td>\n",
       "      <td>Sevilla</td>\n",
       "      <td>37.41560</td>\n",
       "      <td>-5.90646</td>\n",
       "      <td>Batería</td>\n",
       "      <td>Furgoneta</td>\n",
       "      <td>Proveedor C</td>\n",
       "      <td>23.8</td>\n",
       "      <td>40.3</td>\n",
       "      <td>Retorno Domicilio</td>\n",
       "      <td>39.36</td>\n",
       "      <td>Sí</td>\n",
       "      <td>No</td>\n",
       "      <td>4.4</td>\n",
       "      <td>NaN</td>\n",
       "    </tr>\n",
       "  </tbody>\n",
       "</table>\n",
       "</div>"
      ],
      "text/plain": [
       "   Id_Incidente       Fecha   Hora     Ciudad   Latitud  Longitud  \\\n",
       "0             1  2024-12-11  20:42  Barcelona  41.38918   2.13438   \n",
       "1             2  2025-02-16  21:14     Madrid  40.36878  -3.62800   \n",
       "2             3  2024-10-22  07:19   Zaragoza  41.61188  -0.88377   \n",
       "3             4  2025-04-05  17:33    Sevilla  37.39681  -5.95097   \n",
       "4             5  2024-10-10  20:44    Sevilla  37.41560  -5.90646   \n",
       "\n",
       "  Tipo_Incidencia Tipo_Vehiculo    Proveedor  Distancia_km  \\\n",
       "0     Combustible           SUV  Proveedor B          17.1   \n",
       "1       Neumático           SUV  Proveedor A          43.6   \n",
       "2           Motor           SUV  Proveedor B          14.3   \n",
       "3       Neumático     Furgoneta  Proveedor C          25.5   \n",
       "4         Batería     Furgoneta  Proveedor C          23.8   \n",
       "\n",
       "   Tiempo_Respuesta_min      Medio_Retorno  Costo_EUR Resuelto  \\\n",
       "0                  21.3               Taxi      19.02       Sí   \n",
       "1                  37.7               Grúa     103.20       Sí   \n",
       "2                  53.0               Grúa     132.82       Sí   \n",
       "3                  12.1               Grúa      79.25       Sí   \n",
       "4                  40.3  Retorno Domicilio      39.36       Sí   \n",
       "\n",
       "  SLA_45min_Incumplido  Satisfaccion_1a5  Notas  \n",
       "0                   No               5.0    NaN  \n",
       "1                   No               4.4    NaN  \n",
       "2                   Sí               4.2    NaN  \n",
       "3                   No               5.0    NaN  \n",
       "4                   No               4.4    NaN  "
      ]
     },
     "metadata": {},
     "output_type": "display_data"
    }
   ],
   "source": [
    "#   Revisamos las primeras filas del dataset\n",
    "display(data.head())"
   ]
  },
  {
   "cell_type": "code",
   "execution_count": 13,
   "id": "85d7848f",
   "metadata": {},
   "outputs": [
    {
     "name": "stdout",
     "output_type": "stream",
     "text": [
      "<class 'pandas.core.frame.DataFrame'>\n",
      "RangeIndex: 900 entries, 0 to 899\n",
      "Data columns (total 17 columns):\n",
      " #   Column                Non-Null Count  Dtype  \n",
      "---  ------                --------------  -----  \n",
      " 0   Id_Incidente          900 non-null    int64  \n",
      " 1   Fecha                 900 non-null    object \n",
      " 2   Hora                  900 non-null    object \n",
      " 3   Ciudad                900 non-null    object \n",
      " 4   Latitud               900 non-null    float64\n",
      " 5   Longitud              900 non-null    float64\n",
      " 6   Tipo_Incidencia       900 non-null    object \n",
      " 7   Tipo_Vehiculo         900 non-null    object \n",
      " 8   Proveedor             900 non-null    object \n",
      " 9   Distancia_km          900 non-null    float64\n",
      " 10  Tiempo_Respuesta_min  900 non-null    float64\n",
      " 11  Medio_Retorno         900 non-null    object \n",
      " 12  Costo_EUR             900 non-null    float64\n",
      " 13  Resuelto              900 non-null    object \n",
      " 14  SLA_45min_Incumplido  900 non-null    object \n",
      " 15  Satisfaccion_1a5      900 non-null    float64\n",
      " 16  Notas                 0 non-null      float64\n",
      "dtypes: float64(7), int64(1), object(9)\n",
      "memory usage: 119.7+ KB\n"
     ]
    },
    {
     "data": {
      "text/plain": [
       "None"
      ]
     },
     "metadata": {},
     "output_type": "display_data"
    }
   ],
   "source": [
    "display(data.info())"
   ]
  },
  {
   "cell_type": "code",
   "execution_count": 14,
   "id": "8033d3c3",
   "metadata": {},
   "outputs": [],
   "source": [
    "# Realizamos cambios en las columnas de Fecha y Hora\n",
    "\n",
    "data[\"Fecha\"] = pd.to_datetime(data[\"Fecha\"], format=\"%Y-%m-%d\")\n",
    "data[\"Hora\"] = pd.to_datetime(data[\"Hora\"]).dt.time\n",
    "\n"
   ]
  },
  {
   "cell_type": "code",
   "execution_count": 15,
   "id": "e996d3b7",
   "metadata": {},
   "outputs": [
    {
     "data": {
      "text/plain": [
       "Id_Incidente              0\n",
       "Fecha                     0\n",
       "Hora                      0\n",
       "Ciudad                    0\n",
       "Latitud                   0\n",
       "Longitud                  0\n",
       "Tipo_Incidencia           0\n",
       "Tipo_Vehiculo             0\n",
       "Proveedor                 0\n",
       "Distancia_km              0\n",
       "Tiempo_Respuesta_min      0\n",
       "Medio_Retorno             0\n",
       "Costo_EUR                 0\n",
       "Resuelto                  0\n",
       "SLA_45min_Incumplido      0\n",
       "Satisfaccion_1a5          0\n",
       "Notas                   900\n",
       "dtype: int64"
      ]
     },
     "execution_count": 15,
     "metadata": {},
     "output_type": "execute_result"
    }
   ],
   "source": [
    "#   Chequeamos si hay valores nulos\n",
    "\n",
    "data.isnull().sum()"
   ]
  },
  {
   "cell_type": "code",
   "execution_count": 16,
   "id": "bf0079a1",
   "metadata": {},
   "outputs": [],
   "source": [
    "# Eliminamos columnas que no aportan valor al análisis y utilizamos Id_Incidente como índice\n",
    "data = data.set_index(\"Id_Incidente\")\n",
    "data = data.drop(columns=[\"Notas\"])"
   ]
  },
  {
   "cell_type": "code",
   "execution_count": 17,
   "id": "69c38da7",
   "metadata": {},
   "outputs": [],
   "source": [
    "#   Creamos columna nueva \"Fecha_Hora\" uniendo Fecha y Hora\n",
    "data[\"Fecha_Hora\"] = pd.to_datetime(data[\"Fecha\"].astype(str) + ' ' + data[\"Hora\"].astype(str))"
   ]
  },
  {
   "cell_type": "code",
   "execution_count": 18,
   "id": "f5102bf6",
   "metadata": {},
   "outputs": [],
   "source": [
    "#   Guardamos dataset limpio en ruta data/processed\n",
    "data.to_csv(\"../data/processed/incidencias_asistencia_limpio.csv\", index=False)\n"
   ]
  }
 ],
 "metadata": {
  "kernelspec": {
   "display_name": "carretera",
   "language": "python",
   "name": "python3"
  },
  "language_info": {
   "codemirror_mode": {
    "name": "ipython",
    "version": 3
   },
   "file_extension": ".py",
   "mimetype": "text/x-python",
   "name": "python",
   "nbconvert_exporter": "python",
   "pygments_lexer": "ipython3",
   "version": "3.13.7"
  }
 },
 "nbformat": 4,
 "nbformat_minor": 5
}
